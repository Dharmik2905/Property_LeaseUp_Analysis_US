{
 "cells": [
  {
   "cell_type": "markdown",
   "metadata": {},
   "source": [
    "# 1. Create an interactive dashboard that presents key findings and allows for exploration."
   ]
  },
  {
   "cell_type": "markdown",
   "metadata": {},
   "source": [
    "# I have made apptask3.py file for the streamlit app. Refer to that file."
   ]
  },
  {
   "cell_type": "markdown",
   "metadata": {},
   "source": [
    "# Property Cluster Analysis Dashboard\n",
    "This Streamlit app provides an interactive analysis of rental properties\n",
    " across different markets using clustering and AI insights.\n",
    " \n",
    "# Features:\n",
    "- Market & Cluster filtering\n",
    "- Geo-distribution of properties\n",
    "- AI-generated insights using Gemini API\n",
    "- Various interactive plots for rental trends\n",
    "\n",
    "# Built using:\n",
    "- Streamlit (for UI)\n",
    "- Plotly (for interactive graphs)\n",
    "- Gemini AI (for automated insights)"
   ]
  },
  {
   "cell_type": "markdown",
   "metadata": {},
   "source": [
    "# 2. Incorporate at least one GenAI-powered feature in your dashboard (e.g., natural language query interface, automated insight generation, anomaly explanation)."
   ]
  },
  {
   "cell_type": "markdown",
   "metadata": {},
   "source": [
    "I incorporated an automated AI generation 'Generate AI Insights' button which showcases and gives breif summary of the insights shown on the dashbaord based upon the markets and clusters selected as obtained from results of Task1. "
   ]
  },
  {
   "cell_type": "markdown",
   "metadata": {},
   "source": [
    "# 3. Include documentation on how you built the AI components and any prompt engineering techniques used."
   ]
  },
  {
   "cell_type": "markdown",
   "metadata": {},
   "source": [
    "Implementation Details: \n",
    "\n",
    "1) Technology Stack:\n",
    "\n",
    "    -Streamlit: Primary framework for the dashboard\n",
    "\n",
    "    -Google's Generative AI (Gemini 2.0 flash): AI model for generating insights\n",
    "\n",
    "    -Python: Core programming language\n",
    "\n",
    "    -Streamlit Secrets: For API KEY management\n",
    "\n",
    "2. The AI feature consists of three main components:\n",
    "\n",
    "    -API Integration: Connecting to Google's Gemini API\n",
    "\n",
    "    -Data Preparation: Converting dashboard metrics into a format suitable for the AI\n",
    "    \n",
    "    -UI Integration: Adding an interactive element to the Streamlit dashboard"
   ]
  },
  {
   "cell_type": "markdown",
   "metadata": {},
   "source": [
    "# API Setup"
   ]
  },
  {
   "cell_type": "markdown",
   "metadata": {},
   "source": [
    "import google.generativeai as genai\n",
    "\n",
    "import os\n",
    "\n",
    "def generate_ai_insights(data):\n",
    "\n",
    "    \"\"\"Generate insights using Gemini API based on filtered dashboard data\"\"\"\n",
    "\n",
    "        Streamlit secrets management used which I have (for deployment), to hide my Gemini API Key\n",
    "\n",
    "    api_key = st.secrets[\"GEMINI_API_KEY\"]\n",
    "    \n",
    "    if not api_key:\n",
    "\n",
    "        return \"‼️ Gemini API key not found. Please set up your API key to enable AI insights.\"\n",
    "    \n",
    "    Configuring the API\n",
    "\n",
    "    genai.configure(api_key=api_key)\n",
    "    \n",
    "    model = genai.GenerativeModel('gemini-2.0-flash')"
   ]
  },
  {
   "cell_type": "markdown",
   "metadata": {},
   "source": [
    "# Data Processing"
   ]
  },
  {
   "cell_type": "markdown",
   "metadata": {},
   "source": [
    "**Extract relevant metrics from the filtered dashboard data**\n",
    "insight_data = {\n",
    "\n",
    "    \"total_properties\": filtered_df.shape[0],\n",
    "\n",
    "    \"markets\": filtered_df['MarketName'].unique().tolist(),\n",
    "\n",
    "    \"clusters\": filtered_df['Cluster_Name'].unique().tolist(),\n",
    "\n",
    "    \"avg_rent\": filtered_df['Avg_Effective_Rent'].mean(),\n",
    "\n",
    "    \"avg_occupancy\": filtered_df['Avg_Occupancy'].mean() * 100,\n",
    "\n",
    "    \"rent_range\": [filtered_df['Avg_Effective_Rent'].min(), filtered_df['Avg_Effective_Rent'].max()],\n",
    "\n",
    "    \"occupancy_range\": [filtered_df['Avg_Occupancy'].min() * 100, filtered_df['Avg_Occupancy'].max() * 100],\n",
    "\n",
    "    \"property_age_range\": [filtered_df['Property_Age'].min(), filtered_df['Property_Age'].max()],\n",
    "\n",
    "    \"cluster_distribution\": filtered_df['Cluster_Name'].value_counts().to_dict(),\n",
    "\n",
    "    \"market_distribution\": filtered_df['MarketName'].value_counts().to_dict()\n",
    "    \n",
    "}"
   ]
  },
  {
   "cell_type": "markdown",
   "metadata": {},
   "source": [
    "# Dashboard Integration"
   ]
  },
  {
   "cell_type": "markdown",
   "metadata": {},
   "source": [
    "if st.button(\"Generate AI Insights\"):\n",
    "\n",
    "    with st.spinner(\"Analyzing your data...\"):\n",
    "\n",
    "        # Generate and display insights\n",
    "\n",
    "        insights = generate_ai_insights(insight_data)\n",
    "\n",
    "        st.markdown(\"### Key Insights\")\n",
    "        \n",
    "        st.markdown(insights)"
   ]
  },
  {
   "cell_type": "markdown",
   "metadata": {},
   "source": [
    "For deploying I utilized GitHub Repo and connected to Streamlit cloud to deploy the .py streamlit app"
   ]
  },
  {
   "cell_type": "markdown",
   "metadata": {},
   "source": [
    "# User Interaction Flow\n",
    "\n",
    "- User selects filters for markets, clusters, and submarkets\n",
    "- Dashboard displays filtered data visualizations\n",
    "- User clicks \"Generate AI Insights\" button\n",
    "- System processes data through Gemini API\n",
    "- AI-generated insights appear in a dedicated section\n",
    "- User can modify filters and regenerate insights as needed"
   ]
  },
  {
   "cell_type": "markdown",
   "metadata": {},
   "source": [
    "# Design and Prompt Answer Assumption\n",
    "This feature was specifically designed for someone who needs to quickly extract meaningful insights from complex property datasets without requiring deep expertise in data analytics. The casual, accessible language and clear formatting ensures that the insights are immediately valuable and actionable for property investors and managers at various levels of analytical experience in a fun way"
   ]
  },
  {
   "cell_type": "markdown",
   "metadata": {},
   "source": [
    "# Expected Outputs\n",
    "**Users can expect insights that identify:**\n",
    "\n",
    "- Performance patterns across markets and property types\n",
    "- Correlations between property characteristics and financial metrics\n",
    "- Opportunities for optimization or investment\n",
    "- Clear, jargon-free explanations of complex real estate concepts\n",
    "- Strategic recommendations based on data analysis"
   ]
  },
  {
   "cell_type": "markdown",
   "metadata": {},
   "source": [
    "# Prompt Engineering Techniques\n",
    "\n",
    "- **Role Definition: Established a specific \"real estate analytics expert\" persona to encourage domain-specific analysis and flow**\n",
    "- **Data Formatting: Structured dataset variables in a clear, consistent format that emphasizes key metrics**\n",
    "- **Task Decomposition: Broke down the analytical process into specific subtasks (correlations, comparisons, anomalies, age/performance relationships)**\n",
    "- **Output Formatting: Provided explicit instructions for response format with bullet points and explanations**\n",
    "- **Audience Specification: Specified the target audience knowledge level to ensure appropriate terminology and explanations**\n",
    "- **Language Style Direction: Requested \"plain and fun language\" to make technical insights more interpretable**"
   ]
  },
  {
   "cell_type": "markdown",
   "metadata": {},
   "source": [
    "prompt = f\"\"\"\n",
    "    You are a real estate analytics expert analyzing rental property data. \n",
    "    Based on the following filtered dataset, provide 3-5 key insights that would be valuable for investors or property managers. \n",
    "    Explain any real estate terms that may be complex. Answer in plain and fun language.\n",
    "    For your analysis:\n",
    "    1. Identify any meaningful correlations or patterns in the data\n",
    "    2. Compare performance across different clusters and markets\n",
    "    3. Highlight any anomalies or outliers worth investigating\n",
    "    4. Consider how property age relates to performance metrics\n",
    "    5. Include explanation of relevant real estate terms that may be difficult for entry level analyst or a common man.\n",
    "\n",
    "    Format your response as:\n",
    "    - Clear bullet points with concise insights\n",
    "    - Brief explanation of any technical terms\n",
    "    - End with ONE actionable recommendation based on your analysis\n",
    "\n",
    "    Your insights should be accessible to someone with basic real estate knowledge but not necessarily expertise in analytics.\n",
    "    \"\"\""
   ]
  },
  {
   "cell_type": "markdown",
   "metadata": {},
   "source": [
    "# 4. Host the application on a public server and share the link."
   ]
  },
  {
   "cell_type": "markdown",
   "metadata": {},
   "source": [
    "LINK: [Publicly Hosted Dashboard](https://propertyanalysis-dharmikbhagat.streamlit.app/)"
   ]
  },
  {
   "cell_type": "markdown",
   "metadata": {},
   "source": [
    "# 5. Reflection: Write a brief analysis (maximum 500 words) on the advantages and limitations of your GenAI approach, including potential ethical considerations."
   ]
  },
  {
   "cell_type": "markdown",
   "metadata": {},
   "source": [
    "In my property analytics dashboard, we integrated Google’s Gemini API to automate real estate insights. This approach enables real-time analysis of rental property trends, leveraging AI-generated insights for investors and property managers. The AI dynamically responds to user-selected filters, tailoring insights based on market conditions, property clusters, and financial metrics.\n",
    "\n",
    "We structured our implementation with secure API management (using Streamlit secrets) and prompt engineering techniques to ensure meaningful, interpretable responses. AI-generated insights are designed to complement human decision-making and help the users overwhelmed with the dashboard insights to understand it better and get the high level overview."
   ]
  },
  {
   "cell_type": "markdown",
   "metadata": {},
   "source": [
    "My approach of including the insights explanation powered by AI provides several benefits:\n",
    "- Converts complex real estate data into easy-to-understand narratives, making analytics accessible to users without data science expertise. It can be also useful within the company where different stakeholders can understand it better and help democratize the data.\n",
    "- Automates analysis across large property portfolios, reducing the time required for manual interpretation.\n",
    "- Generates customized reports based on user-selected parameters, dynamically adjusting based on market, cluster, and financial conditions. Like that adaptive insights?\n",
    "- AI highlights patterns and anomalies, helping stakeholders make data-driven investment decisions.\n"
   ]
  },
  {
   "cell_type": "markdown",
   "metadata": {},
   "source": [
    "Limitations:\n",
    "- However, the data being used by my dashboard and being considered by the Gemini AI model is quite small. It can be further provided with company specific data and make a model that is automated with whole process that the whole dashboard generation can be automated with reat time market data\n",
    "- Here AI can briefly summarize the insights. It still lacks causations. It can be done with more samrt models but at a cost!\n",
    "- Incomplete or biased datasets can create loopholes and bad insights. This process of my interactive dashboard is still incomplete but can be developed further with proper knowledge and expert driven guidance.\n",
    "- AI can still miss out new trends or anomalies due to socioeconomic factors. For example, there are new policy changes like new affordibility program comes in Austin. This could shift demand from high end new developments. This factors should be carefully integrated into data in logical way"
   ]
  },
  {
   "cell_type": "markdown",
   "metadata": {},
   "source": [
    "Ethical Concerns:\n",
    "The AI-generated insights from Google Gemini are engaging and useful, but they also reveal several ethical concerns in real estate decision-making. Below, I analyze key issues, potential biases, and how they might impact decision-making, along with suggestions for mitigation.\n",
    "1) Market Comparision Bias\n",
    "    - For example, \"Austin is the King, Akron Needs a Boost: 90% of the properties are in Austin-Round Rock, TX. This suggests Austin is the dominant market in this dataset. Akron, OH, with only 10% of the properties, might be a smaller, potentially riskier, or less explored market.\" The language used suggests Akron is \"risky\" or less desirable without a thorough analysis of why this is the case. It could deter investors from considering hidden opportunities in Akron. If the dataset contains more properties from Austin, the AI might overemphasize Austin’s importance while underrepresenting Akron’s potential.\n",
    "2) Gentrification Bias\n",
    "    - \"These are your bread-and-butter rentals. Think of them as solid, dependable cars that get you from point A to point B without much fuss.\" It also suggests investors explore repositioning opportunities, which often drive up rent prices. The AI assumes that higher occupancy and increased rent are always the goals, rather than considering the impact on renters who rely on affordable housing. The focus on value addition and repositioning can lead to higher rent prices and tenant displacement.\n",
    "3) Social Impacts\n",
    "    - The AI suggests exploring \"repositioning properties\" as profit opportunities. However, it does not consider whether these properties serve important social roles (e.g., low-income housing, historical buildings). If investors prioritize profit without considering tenant needs, it could reduce affordable housing options."
   ]
  },
  {
   "cell_type": "markdown",
   "metadata": {},
   "source": [
    "AI can be still be valuable if assessed properly. The tasks given were extremely thrilling to do. As a person who loves to play with numbers, squeeze out information and pursuing Management information Systems, I look forward to improve my expertise upon how to use data accurately, correctly and how technology (specifically GenAI) should be used to improve business decisions and processes by approaching them from eye of users and consumers."
   ]
  },
  {
   "cell_type": "markdown",
   "metadata": {},
   "source": [
    "*Honestly, as I navigated this fresh challenge, I utilized ChatGPT, Claude and blogposts from Medium as learning aids to refine my approach. These tools helped me formulate my thinking process, structure my design decisions, prioritize key features, and iterate on viable code solutions. While I tested and validated all implementations myself, leveraging AI-assisted coding enabled me to accelerate problem-solving, explore multiple approaches, and enhance the overall functionality of my project.*"
   ]
  },
  {
   "cell_type": "markdown",
   "metadata": {},
   "source": []
  }
 ],
 "metadata": {
  "kernelspec": {
   "display_name": ".venv",
   "language": "python",
   "name": "python3"
  },
  "language_info": {
   "codemirror_mode": {
    "name": "ipython",
    "version": 3
   },
   "file_extension": ".py",
   "mimetype": "text/x-python",
   "name": "python",
   "nbconvert_exporter": "python",
   "pygments_lexer": "ipython3",
   "version": "3.9.6"
  }
 },
 "nbformat": 4,
 "nbformat_minor": 2
}
